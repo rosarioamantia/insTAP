{
 "cells": [
  {
   "cell_type": "markdown",
   "id": "169d1b09",
   "metadata": {},
   "source": [
    "# Apache Spark"
   ]
  },
  {
   "cell_type": "code",
   "execution_count": null,
   "id": "e9cc8dda",
   "metadata": {},
   "outputs": [],
   "source": []
  },
  {
   "cell_type": "markdown",
   "id": "87fda61e",
   "metadata": {},
   "source": [
    "# Elasticsearch"
   ]
  },
  {
   "cell_type": "markdown",
   "id": "3c8c7355",
   "metadata": {},
   "source": [
    "# Kibana"
   ]
  },
  {
   "cell_type": "code",
   "execution_count": null,
   "id": "c8df9b20",
   "metadata": {},
   "outputs": [],
   "source": []
  }
 ],
 "metadata": {
  "celltoolbar": "Slideshow",
  "kernelspec": {
   "display_name": "Python 3.10.5 64-bit",
   "language": "python",
   "name": "python3"
  },
  "language_info": {
   "codemirror_mode": {
    "name": "ipython",
    "version": 3
   },
   "file_extension": ".py",
   "mimetype": "text/x-python",
   "name": "python",
   "nbconvert_exporter": "python",
   "pygments_lexer": "ipython3",
   "version": "3.10.5"
  },
  "vscode": {
   "interpreter": {
    "hash": "5f82c4ccf15e59e04942493de2cec36c1239afcd83092aed74eea77ad3e0cbdd"
   }
  }
 },
 "nbformat": 4,
 "nbformat_minor": 5
}
